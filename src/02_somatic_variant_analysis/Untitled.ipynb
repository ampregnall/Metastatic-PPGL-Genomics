{
 "cells": [
  {
   "cell_type": "markdown",
   "metadata": {},
   "source": [
    "# Mutational Signature Extraction\n",
    "In this notebook, we will extract SNV and indel signatures for the metastatic pheochromocytoma and paraganglioma cohort."
   ]
  },
  {
   "cell_type": "code",
   "execution_count": null,
   "metadata": {},
   "outputs": [],
   "source": [
    "# Import required packages\n",
    "import os\n",
    "import csv\n",
    "from SigProfilerMatrixGenerator.scripts import SigProfilerMatrixGeneratorFunc as matGen"
   ]
  },
  {
   "cell_type": "code",
   "execution_count": null,
   "metadata": {},
   "outputs": [],
   "source": [
    "# Set global variants\n",
    "read_depth = 8\n",
    "genome = 'GrCh38'\n",
    "project = 'mPPGL'"
   ]
  },
  {
   "cell_type": "markdown",
   "metadata": {},
   "source": [
    "## Create SigProfilerMatrixGenerator Input\n",
    "We will use basic data wrangling to create the required input for SigProfilerMatrixGenerator"
   ]
  },
  {
   "cell_type": "code",
   "execution_count": null,
   "metadata": {},
   "outputs": [],
   "source": [
    "snvs = [file for file in os.listdir(\"../../data/raw/snvs/\") if \".csv\" in file] # Create list of SNV files\n",
    "samples = [sample.split(\".\")[0] for sample in snvs] # Extract sample names"
   ]
  },
  {
   "cell_type": "code",
   "execution_count": null,
   "metadata": {},
   "outputs": [],
   "source": [
    "# Create input files\n",
    "outfields = ['Project', 'Sample', 'ID', 'Genome', 'mut_type', 'chrom', 'pos_start', 'pos_end', 'ref', 'alt', 'type']\n",
    "\n",
    "for snv, sample in zip(snvs, samples):\n",
    "    with open(\"../../data/raw/snvs/{0}\".format(snv), 'r') as infile, open(\"../../data/processed/mutational_signatures/input/{0}.SigProfiler.txt\".format(sample), 'w') as outfile:\n",
    "    \n",
    "        reader = csv.DictReader(infile, delimiter=',')\n",
    "        writer = csv.DictWriter(outfile, delimiter='\\t', fieldnames=outfields, lineterminator='\\r')\n",
    "        writer.writeheader()\n",
    "\n",
    "        for row in reader:\n",
    "\n",
    "            if float(row['Tumor.AltDepth']) >= float(read_depth):\n",
    "\n",
    "                newDict = {'Project': project,\n",
    "                        'Sample': row['Tumor.ID'],\n",
    "                        'ID': '.', \n",
    "                        'Genome': genome,\n",
    "                        'mut_type': row['Variant.Class'],\n",
    "                        'chrom': row['Chr'],\n",
    "                        'pos_start': row['Start'],\n",
    "                        'pos_end': row['Start'], \n",
    "                        'ref': row['REF'],\n",
    "                        'alt': row['ALT'],\n",
    "                        'type': 'SOMATIC'}\n",
    "\n",
    "                writer.writerow(newDict)"
   ]
  },
  {
   "cell_type": "markdown",
   "metadata": {},
   "source": [
    "## Run SigProfilerMatrixGenerator"
   ]
  },
  {
   "cell_type": "code",
   "execution_count": null,
   "metadata": {},
   "outputs": [],
   "source": [
    "matrices = matGen.SigProfilerMatrixGeneratorFunc(project, \n",
    "                                                 genome, \n",
    "                                                 \"../../data/processed/mutational_signatures/input\",\n",
    "                                                 plot=True, exome=False, bed_file=None, chrom_based=False, \n",
    "                                                 tsb_stat=True, seqInfo=True, cushion=100)"
   ]
  },
  {
   "cell_type": "markdown",
   "metadata": {},
   "source": [
    "## Extract SBS Signatures"
   ]
  },
  {
   "cell_type": "code",
   "execution_count": null,
   "metadata": {},
   "outputs": [],
   "source": [
    "from SigProfilerExtractor import sigpro as sig"
   ]
  },
  {
   "cell_type": "code",
   "execution_count": null,
   "metadata": {},
   "outputs": [],
   "source": [
    "# Load data\n",
    "df1_path = \"../../data/processed/mutational_signatures/input/output/SBS/mPPGL.SBS96.all\"\n",
    "df1 = pd.read_table(df1_path)\n",
    "df1.head()"
   ]
  },
  {
   "cell_type": "code",
   "execution_count": null,
   "metadata": {},
   "outputs": [],
   "source": [
    "sig.sigProfilerExtractor(\n",
    "        \"matrix\",\n",
    "        \"../../data/processed/mutational_signatures/SigProfilerExtractor_SBS\",\n",
    "        df1,\n",
    "        opportunity_genome=\"GrCh38\",\n",
    "        exome=True,\n",
    "        minimum_signatures=1,\n",
    "        maximum_signatures=10,\n",
    "        cpu=4,\n",
    "    )"
   ]
  },
  {
   "cell_type": "code",
   "execution_count": null,
   "metadata": {},
   "outputs": [],
   "source": [
    "# Load data\n",
    "df2_path = \"../../data/processed/mutational_signatures/input/output/ID/mPPGL.ID83.all\"\n",
    "df2 = pd.read_table(df1_path)\n",
    "df2.head()"
   ]
  },
  {
   "cell_type": "code",
   "execution_count": null,
   "metadata": {},
   "outputs": [],
   "source": [
    "sig.sigProfilerExtractor(\n",
    "        \"matrix\",\n",
    "        \"../../data/processed/mutational_signatures/SigProfilerExtractor_ID\",\n",
    "        df2,\n",
    "        opportunity_genome=\"GrCh38\",\n",
    "        exome=True,\n",
    "        minimum_signatures=1,\n",
    "        maximum_signatures=10,\n",
    "        cpu=4,\n",
    "    )"
   ]
  }
 ],
 "metadata": {
  "kernelspec": {
   "display_name": "Python 3",
   "language": "python",
   "name": "python3"
  },
  "language_info": {
   "codemirror_mode": {
    "name": "ipython",
    "version": 3
   },
   "file_extension": ".py",
   "mimetype": "text/x-python",
   "name": "python",
   "nbconvert_exporter": "python",
   "pygments_lexer": "ipython3",
   "version": "3.8.5"
  }
 },
 "nbformat": 4,
 "nbformat_minor": 4
}
