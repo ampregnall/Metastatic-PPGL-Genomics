{
 "cells": [
  {
   "cell_type": "code",
   "execution_count": 17,
   "metadata": {},
   "outputs": [],
   "source": [
    "import pandas as pd\n",
    "import numpy as np\n",
    "import musical\n",
    "import matplotlib.pyplot as plt"
   ]
  },
  {
   "cell_type": "code",
   "execution_count": 5,
   "metadata": {},
   "outputs": [
    {
     "data": {
      "text/html": [
       "<div>\n",
       "<style scoped>\n",
       "    .dataframe tbody tr th:only-of-type {\n",
       "        vertical-align: middle;\n",
       "    }\n",
       "\n",
       "    .dataframe tbody tr th {\n",
       "        vertical-align: top;\n",
       "    }\n",
       "\n",
       "    .dataframe thead th {\n",
       "        text-align: right;\n",
       "    }\n",
       "</style>\n",
       "<table border=\"1\" class=\"dataframe\">\n",
       "  <thead>\n",
       "    <tr style=\"text-align: right;\">\n",
       "      <th></th>\n",
       "      <th>PP002-DZ3A</th>\n",
       "      <th>PP002-DZ4A</th>\n",
       "      <th>PP002-DZ5A</th>\n",
       "      <th>PP008-DZ2A</th>\n",
       "      <th>PP009-DZ1B</th>\n",
       "      <th>PP009-DZ2B</th>\n",
       "      <th>PP010-DZ1A</th>\n",
       "      <th>PP010-DZ5A</th>\n",
       "      <th>PP010-F2</th>\n",
       "      <th>PP019-DZ1A</th>\n",
       "      <th>...</th>\n",
       "      <th>PP253-DZ1A</th>\n",
       "      <th>PP253-DZ2A</th>\n",
       "      <th>PP263-DZ2A</th>\n",
       "      <th>PP302-DZ1A</th>\n",
       "      <th>PP323-DZ3A</th>\n",
       "      <th>PP323-DZ4A</th>\n",
       "      <th>PP323-DZ5A</th>\n",
       "      <th>PP341-DZ2B</th>\n",
       "      <th>PP344-DZ1A</th>\n",
       "      <th>PP344-DZ3A</th>\n",
       "    </tr>\n",
       "  </thead>\n",
       "  <tbody>\n",
       "    <tr>\n",
       "      <th>0</th>\n",
       "      <td>6</td>\n",
       "      <td>25</td>\n",
       "      <td>1</td>\n",
       "      <td>479</td>\n",
       "      <td>34</td>\n",
       "      <td>71</td>\n",
       "      <td>0</td>\n",
       "      <td>1</td>\n",
       "      <td>0</td>\n",
       "      <td>140</td>\n",
       "      <td>...</td>\n",
       "      <td>16</td>\n",
       "      <td>4</td>\n",
       "      <td>4</td>\n",
       "      <td>3</td>\n",
       "      <td>22</td>\n",
       "      <td>494</td>\n",
       "      <td>222</td>\n",
       "      <td>10</td>\n",
       "      <td>11</td>\n",
       "      <td>203</td>\n",
       "    </tr>\n",
       "    <tr>\n",
       "      <th>1</th>\n",
       "      <td>0</td>\n",
       "      <td>2</td>\n",
       "      <td>1</td>\n",
       "      <td>241</td>\n",
       "      <td>30</td>\n",
       "      <td>47</td>\n",
       "      <td>0</td>\n",
       "      <td>0</td>\n",
       "      <td>0</td>\n",
       "      <td>85</td>\n",
       "      <td>...</td>\n",
       "      <td>9</td>\n",
       "      <td>9</td>\n",
       "      <td>0</td>\n",
       "      <td>4</td>\n",
       "      <td>14</td>\n",
       "      <td>245</td>\n",
       "      <td>106</td>\n",
       "      <td>4</td>\n",
       "      <td>7</td>\n",
       "      <td>128</td>\n",
       "    </tr>\n",
       "    <tr>\n",
       "      <th>2</th>\n",
       "      <td>1</td>\n",
       "      <td>0</td>\n",
       "      <td>0</td>\n",
       "      <td>176</td>\n",
       "      <td>9</td>\n",
       "      <td>17</td>\n",
       "      <td>0</td>\n",
       "      <td>1</td>\n",
       "      <td>0</td>\n",
       "      <td>40</td>\n",
       "      <td>...</td>\n",
       "      <td>12</td>\n",
       "      <td>0</td>\n",
       "      <td>1</td>\n",
       "      <td>2</td>\n",
       "      <td>7</td>\n",
       "      <td>170</td>\n",
       "      <td>59</td>\n",
       "      <td>5</td>\n",
       "      <td>9</td>\n",
       "      <td>62</td>\n",
       "    </tr>\n",
       "    <tr>\n",
       "      <th>3</th>\n",
       "      <td>3</td>\n",
       "      <td>1</td>\n",
       "      <td>0</td>\n",
       "      <td>271</td>\n",
       "      <td>26</td>\n",
       "      <td>42</td>\n",
       "      <td>0</td>\n",
       "      <td>0</td>\n",
       "      <td>1</td>\n",
       "      <td>100</td>\n",
       "      <td>...</td>\n",
       "      <td>8</td>\n",
       "      <td>2</td>\n",
       "      <td>1</td>\n",
       "      <td>2</td>\n",
       "      <td>13</td>\n",
       "      <td>273</td>\n",
       "      <td>129</td>\n",
       "      <td>5</td>\n",
       "      <td>15</td>\n",
       "      <td>115</td>\n",
       "    </tr>\n",
       "    <tr>\n",
       "      <th>4</th>\n",
       "      <td>0</td>\n",
       "      <td>0</td>\n",
       "      <td>0</td>\n",
       "      <td>89</td>\n",
       "      <td>1</td>\n",
       "      <td>1</td>\n",
       "      <td>0</td>\n",
       "      <td>1</td>\n",
       "      <td>0</td>\n",
       "      <td>2</td>\n",
       "      <td>...</td>\n",
       "      <td>2</td>\n",
       "      <td>0</td>\n",
       "      <td>6</td>\n",
       "      <td>0</td>\n",
       "      <td>1</td>\n",
       "      <td>4</td>\n",
       "      <td>3</td>\n",
       "      <td>1</td>\n",
       "      <td>11</td>\n",
       "      <td>0</td>\n",
       "    </tr>\n",
       "  </tbody>\n",
       "</table>\n",
       "<p>5 rows × 48 columns</p>\n",
       "</div>"
      ],
      "text/plain": [
       "   PP002-DZ3A  PP002-DZ4A  PP002-DZ5A  PP008-DZ2A  PP009-DZ1B  PP009-DZ2B  \\\n",
       "0           6          25           1         479          34          71   \n",
       "1           0           2           1         241          30          47   \n",
       "2           1           0           0         176           9          17   \n",
       "3           3           1           0         271          26          42   \n",
       "4           0           0           0          89           1           1   \n",
       "\n",
       "   PP010-DZ1A  PP010-DZ5A  PP010-F2  PP019-DZ1A  ...  PP253-DZ1A  PP253-DZ2A  \\\n",
       "0           0           1         0         140  ...          16           4   \n",
       "1           0           0         0          85  ...           9           9   \n",
       "2           0           1         0          40  ...          12           0   \n",
       "3           0           0         1         100  ...           8           2   \n",
       "4           0           1         0           2  ...           2           0   \n",
       "\n",
       "   PP263-DZ2A  PP302-DZ1A  PP323-DZ3A  PP323-DZ4A  PP323-DZ5A  PP341-DZ2B  \\\n",
       "0           4           3          22         494         222          10   \n",
       "1           0           4          14         245         106           4   \n",
       "2           1           2           7         170          59           5   \n",
       "3           1           2          13         273         129           5   \n",
       "4           6           0           1           4           3           1   \n",
       "\n",
       "   PP344-DZ1A  PP344-DZ3A  \n",
       "0          11         203  \n",
       "1           7         128  \n",
       "2           9          62  \n",
       "3          15         115  \n",
       "4          11           0  \n",
       "\n",
       "[5 rows x 48 columns]"
      ]
     },
     "execution_count": 5,
     "metadata": {},
     "output_type": "execute_result"
    }
   ],
   "source": [
    "# Load data\n",
    "df1_path = \"/Users/ampregnall/Documents/research/Metastatic-PPGL-Genomics/data/processed/mutational_signatures/input/output/SBS/mPPGL.SBS96.all\"\n",
    "df1 = pd.read_table(df1_path)\n",
    "df1.drop(columns=df1.columns[[0]], axis=1,  inplace=True)\n",
    "df1.head()"
   ]
  },
  {
   "cell_type": "code",
   "execution_count": 6,
   "metadata": {},
   "outputs": [
    {
     "name": "stdout",
     "output_type": "stream",
     "text": [
      "Extracting signatures for n_components = 1..................\n",
      "Selected lambda_tilde = 2. This lambda_tilde will be used for all subsequent mvNMF runs.\n"
     ]
    },
    {
     "name": "stderr",
     "output_type": "stream",
     "text": [
      "/Users/ampregnall/opt/anaconda3/lib/python3.8/site-packages/musical/mvnmf.py:508: UserWarning: No p-value is smaller than or equal to 0.05. The largest lambda_tilde is selected. Enlarge the search grid of lambda_tilde.\n",
      "  warnings.warn('No p-value is smaller than or equal to %.3g. The largest lambda_tilde is selected. Enlarge the search grid of lambda_tilde.' % self.pthresh,\n"
     ]
    },
    {
     "name": "stdout",
     "output_type": "stream",
     "text": [
      "Time elapsed: 155 seconds.\n",
      "Extracting signatures for n_components = 2..................\n",
      "Selected lambda_tilde = 0.1. This lambda_tilde will be used for all subsequent mvNMF runs.\n",
      "Time elapsed: 1.26e+03 seconds.\n",
      "Extracting signatures for n_components = 3..................\n",
      "Selected lambda_tilde = 0.002. This lambda_tilde will be used for all subsequent mvNMF runs.\n",
      "Time elapsed: 2.62e+03 seconds.\n",
      "Extracting signatures for n_components = 4..................\n",
      "Selected lambda_tilde = 0.002. This lambda_tilde will be used for all subsequent mvNMF runs.\n",
      "Time elapsed: 3.81e+03 seconds.\n",
      "Extracting signatures for n_components = 5..................\n",
      "Selected lambda_tilde = 0.01. This lambda_tilde will be used for all subsequent mvNMF runs.\n",
      "Time elapsed: 4.91e+03 seconds.\n",
      "Extracting signatures for n_components = 6..................\n",
      "Selected lambda_tilde = 0.002. This lambda_tilde will be used for all subsequent mvNMF runs.\n",
      "Time elapsed: 6.26e+03 seconds.\n",
      "Extracting signatures for n_components = 7..................\n",
      "Selected lambda_tilde = 0.001. This lambda_tilde will be used for all subsequent mvNMF runs.\n",
      "Time elapsed: 7.27e+03 seconds.\n",
      "Extracting signatures for n_components = 8..................\n",
      "Selected lambda_tilde = 0.001. This lambda_tilde will be used for all subsequent mvNMF runs.\n",
      "Time elapsed: 8.34e+03 seconds.\n"
     ]
    },
    {
     "data": {
      "text/plain": [
       "<musical.denovo.DenovoSig at 0x7f8a30176d60>"
      ]
     },
     "execution_count": 6,
     "metadata": {},
     "output_type": "execute_result"
    }
   ],
   "source": [
    "# Run MUSICAL on SNZ data\n",
    "model = musical.DenovoSig(df1, min_n_components=1, max_n_components=8, \n",
    "                          init='random', method='mvnmf', n_replicates=20, \n",
    "                          ncpu=4, max_iter=100000, bootstrap=True, \n",
    "                          tol=1e-8, verbose=1, normalize_X=False)\n",
    "model.fit()"
   ]
  },
  {
   "cell_type": "code",
   "execution_count": 10,
   "metadata": {},
   "outputs": [
    {
     "data": {
      "image/png": "[encoded data removed]",
      "text/plain": [
       "<Figure size 1512x288 with 6 Axes>"
      ]
     },
     "metadata": {},
     "output_type": "display_data"
    }
   ],
   "source": [
    "model.plot_selection(title=\"MVNMF Extraction\", outfile = \"/Users/ampregnall/Documents/research/Metastatic-PPGL-Genomics/data/processed/mutational_signatures/musical/mPPGL_mvnmf_extraction.pdf\")"
   ]
  },
  {
   "cell_type": "code",
   "execution_count": 11,
   "metadata": {},
   "outputs": [
    {
     "data": {
      "image/png": "[encoded data removed]",
      "text/plain": [
       "<Figure size 576x432 with 3 Axes>"
      ]
     },
     "execution_count": 11,
     "metadata": {},
     "output_type": "execute_result"
    },
    {
     "data": {
      "image/png": "[encoded data removed]",
      "text/plain": [
       "<Figure size 576x432 with 3 Axes>"
      ]
     },
     "metadata": {},
     "output_type": "display_data"
    }
   ],
   "source": [
    "musical.sigplot_bar(model.W, outfile=\"/Users/ampregnall/Documents/research/Metastatic-PPGL-Genomics/data/processed/mutational_signatures/musical/mPPGL_mvnmf_signatures.pdf\")"
   ]
  },
  {
   "cell_type": "code",
   "execution_count": 12,
   "metadata": {},
   "outputs": [],
   "source": [
    "model.W_df.to_csv(\"/Users/ampregnall/Documents/research/Metastatic-PPGL-Genomics/data/processed/mutational_signatures/musical/mPPGL_signatures.txt\", sep='\\t')\n",
    "model.H_df.to_csv(\"/Users/ampregnall/Documents/research/Metastatic-PPGL-Genomics/data/processed/mutational_signatures/musical/mPPGL_exposures.txt\", sep='\\t')"
   ]
  },
  {
   "cell_type": "code",
   "execution_count": 24,
   "metadata": {},
   "outputs": [
    {
     "name": "stdout",
     "output_type": "stream",
     "text": [
      "78\n"
     ]
    }
   ],
   "source": [
    "catalog = musical.load_catalog(\"/Users/ampregnall/Documents/research/Metastatic-PPGL-Genomics/metadata/COSMIC_v3p2_SBS_WGS.csv\")\n",
    "W_catalog = catalog.W\n",
    "print(W_catalog.shape[1])"
   ]
  },
  {
   "cell_type": "code",
   "execution_count": 13,
   "metadata": {},
   "outputs": [],
   "source": [
    "thresh_grid = np.array([\n",
    "    0.0001, 0.0002, 0.0005,\n",
    "    0.001, 0.002, 0.005,\n",
    "    0.01, 0.02, 0.05,\n",
    "    0.1, 0.2, 0.5,\n",
    "    1., 2., 5.\n",
    "])"
   ]
  },
  {
   "cell_type": "code",
   "execution_count": 26,
   "metadata": {},
   "outputs": [
    {
     "name": "stderr",
     "output_type": "stream",
     "text": [
      "/Users/ampregnall/opt/anaconda3/lib/python3.8/site-packages/musical/denovo.py:1050: UserWarning: W_catalog has different feature names. The feature names of W_catalog will be converted to self.features. Make sure that the features match.\n",
      "  warnings.warn('W_catalog has different feature names. The feature names of W_catalog will be converted to self.features. Make sure that the features match.',\n"
     ]
    },
    {
     "data": {
      "text/plain": [
       "<musical.denovo.DenovoSig at 0x7f8a30176d60>"
      ]
     },
     "execution_count": 26,
     "metadata": {},
     "output_type": "execute_result"
    }
   ],
   "source": [
    "model.assign_grid(W_catalog, \n",
    "                  method_assign='likelihood_bidirectional', # Method for performing matching and refitting\n",
    "                  thresh_match_grid=thresh_grid, # Grid of threshold for matchinng\n",
    "                  thresh_refit_grid=thresh_grid, # Grid of threshold for refitting\n",
    "                  thresh_new_sig=0.0, # De novo signatures with reconstructed cosine similarity below this threshold will be considered novel\n",
    "                  connected_sigs=False, # Whether or not to force connected signatures to co-occur\n",
    "                  clean_W_s=True # An optional intermediate step to avoid overfitting to small backgrounds in de novo signatures for 96-channel SBS signatures\n",
    "                 )"
   ]
  },
  {
   "cell_type": "code",
   "execution_count": 28,
   "metadata": {},
   "outputs": [
    {
     "name": "stdout",
     "output_type": "stream",
     "text": [
      "Extracting signatures for n_components = 3..................\n",
      "Time elapsed: 162 seconds.\n",
      "Extracting signatures for n_components = 3..................\n"
     ]
    },
    {
     "name": "stderr",
     "output_type": "stream",
     "text": [
      "/Users/ampregnall/opt/anaconda3/lib/python3.8/site-packages/musical/denovo.py:358: UserWarning: Only 1 n_components value is tested. Selecting this n_components value.\n",
      "  warnings.warn('Only 1 n_components value is tested. Selecting this n_components value.',\n"
     ]
    },
    {
     "name": "stdout",
     "output_type": "stream",
     "text": [
      "Time elapsed: 229 seconds.\n",
      "Extracting signatures for n_components = 3..................\n"
     ]
    },
    {
     "name": "stderr",
     "output_type": "stream",
     "text": [
      "/Users/ampregnall/opt/anaconda3/lib/python3.8/site-packages/musical/denovo.py:358: UserWarning: Only 1 n_components value is tested. Selecting this n_components value.\n",
      "  warnings.warn('Only 1 n_components value is tested. Selecting this n_components value.',\n"
     ]
    },
    {
     "name": "stdout",
     "output_type": "stream",
     "text": [
      "Time elapsed: 110 seconds.\n",
      "Extracting signatures for n_components = 3..................\n"
     ]
    },
    {
     "name": "stderr",
     "output_type": "stream",
     "text": [
      "/Users/ampregnall/opt/anaconda3/lib/python3.8/site-packages/musical/denovo.py:358: UserWarning: Only 1 n_components value is tested. Selecting this n_components value.\n",
      "  warnings.warn('Only 1 n_components value is tested. Selecting this n_components value.',\n"
     ]
    },
    {
     "name": "stdout",
     "output_type": "stream",
     "text": [
      "Time elapsed: 239 seconds.\n",
      "Extracting signatures for n_components = 3..................\n"
     ]
    },
    {
     "name": "stderr",
     "output_type": "stream",
     "text": [
      "/Users/ampregnall/opt/anaconda3/lib/python3.8/site-packages/musical/denovo.py:358: UserWarning: Only 1 n_components value is tested. Selecting this n_components value.\n",
      "  warnings.warn('Only 1 n_components value is tested. Selecting this n_components value.',\n"
     ]
    },
    {
     "name": "stdout",
     "output_type": "stream",
     "text": [
      "Time elapsed: 297 seconds.\n",
      "Extracting signatures for n_components = 3..................\n"
     ]
    },
    {
     "name": "stderr",
     "output_type": "stream",
     "text": [
      "/Users/ampregnall/opt/anaconda3/lib/python3.8/site-packages/musical/denovo.py:358: UserWarning: Only 1 n_components value is tested. Selecting this n_components value.\n",
      "  warnings.warn('Only 1 n_components value is tested. Selecting this n_components value.',\n"
     ]
    },
    {
     "name": "stdout",
     "output_type": "stream",
     "text": [
      "Time elapsed: 132 seconds.\n",
      "Extracting signatures for n_components = 3..................\n"
     ]
    },
    {
     "name": "stderr",
     "output_type": "stream",
     "text": [
      "/Users/ampregnall/opt/anaconda3/lib/python3.8/site-packages/musical/denovo.py:358: UserWarning: Only 1 n_components value is tested. Selecting this n_components value.\n",
      "  warnings.warn('Only 1 n_components value is tested. Selecting this n_components value.',\n"
     ]
    },
    {
     "name": "stdout",
     "output_type": "stream",
     "text": [
      "Time elapsed: 249 seconds.\n",
      "Extracting signatures for n_components = 3..................\n"
     ]
    },
    {
     "name": "stderr",
     "output_type": "stream",
     "text": [
      "/Users/ampregnall/opt/anaconda3/lib/python3.8/site-packages/musical/denovo.py:358: UserWarning: Only 1 n_components value is tested. Selecting this n_components value.\n",
      "  warnings.warn('Only 1 n_components value is tested. Selecting this n_components value.',\n"
     ]
    },
    {
     "name": "stdout",
     "output_type": "stream",
     "text": [
      "Time elapsed: 227 seconds.\n",
      "Extracting signatures for n_components = 3..................\n"
     ]
    },
    {
     "name": "stderr",
     "output_type": "stream",
     "text": [
      "/Users/ampregnall/opt/anaconda3/lib/python3.8/site-packages/musical/denovo.py:358: UserWarning: Only 1 n_components value is tested. Selecting this n_components value.\n",
      "  warnings.warn('Only 1 n_components value is tested. Selecting this n_components value.',\n"
     ]
    },
    {
     "name": "stdout",
     "output_type": "stream",
     "text": [
      "Time elapsed: 604 seconds.\n",
      "Extracting signatures for n_components = 3..................\n"
     ]
    },
    {
     "name": "stderr",
     "output_type": "stream",
     "text": [
      "/Users/ampregnall/opt/anaconda3/lib/python3.8/site-packages/musical/denovo.py:358: UserWarning: Only 1 n_components value is tested. Selecting this n_components value.\n",
      "  warnings.warn('Only 1 n_components value is tested. Selecting this n_components value.',\n"
     ]
    },
    {
     "name": "stdout",
     "output_type": "stream",
     "text": [
      "Time elapsed: 276 seconds.\n",
      "Extracting signatures for n_components = 3..................\n"
     ]
    },
    {
     "name": "stderr",
     "output_type": "stream",
     "text": [
      "/Users/ampregnall/opt/anaconda3/lib/python3.8/site-packages/musical/denovo.py:358: UserWarning: Only 1 n_components value is tested. Selecting this n_components value.\n",
      "  warnings.warn('Only 1 n_components value is tested. Selecting this n_components value.',\n"
     ]
    },
    {
     "name": "stdout",
     "output_type": "stream",
     "text": [
      "Time elapsed: 517 seconds.\n",
      "Extracting signatures for n_components = 3..................\n"
     ]
    },
    {
     "name": "stderr",
     "output_type": "stream",
     "text": [
      "/Users/ampregnall/opt/anaconda3/lib/python3.8/site-packages/musical/denovo.py:358: UserWarning: Only 1 n_components value is tested. Selecting this n_components value.\n",
      "  warnings.warn('Only 1 n_components value is tested. Selecting this n_components value.',\n"
     ]
    },
    {
     "name": "stdout",
     "output_type": "stream",
     "text": [
      "Time elapsed: 398 seconds.\n",
      "Extracting signatures for n_components = 3..................\n"
     ]
    },
    {
     "name": "stderr",
     "output_type": "stream",
     "text": [
      "/Users/ampregnall/opt/anaconda3/lib/python3.8/site-packages/musical/denovo.py:358: UserWarning: Only 1 n_components value is tested. Selecting this n_components value.\n",
      "  warnings.warn('Only 1 n_components value is tested. Selecting this n_components value.',\n"
     ]
    },
    {
     "name": "stdout",
     "output_type": "stream",
     "text": [
      "Time elapsed: 814 seconds.\n",
      "Extracting signatures for n_components = 3..................\n"
     ]
    },
    {
     "name": "stderr",
     "output_type": "stream",
     "text": [
      "/Users/ampregnall/opt/anaconda3/lib/python3.8/site-packages/musical/denovo.py:358: UserWarning: Only 1 n_components value is tested. Selecting this n_components value.\n",
      "  warnings.warn('Only 1 n_components value is tested. Selecting this n_components value.',\n"
     ]
    },
    {
     "name": "stdout",
     "output_type": "stream",
     "text": [
      "Time elapsed: 706 seconds.\n",
      "Extracting signatures for n_components = 3..................\n"
     ]
    },
    {
     "name": "stderr",
     "output_type": "stream",
     "text": [
      "/Users/ampregnall/opt/anaconda3/lib/python3.8/site-packages/musical/denovo.py:358: UserWarning: Only 1 n_components value is tested. Selecting this n_components value.\n",
      "  warnings.warn('Only 1 n_components value is tested. Selecting this n_components value.',\n"
     ]
    },
    {
     "name": "stdout",
     "output_type": "stream",
     "text": [
      "Time elapsed: 688 seconds.\n",
      "Extracting signatures for n_components = 3..................\n"
     ]
    },
    {
     "name": "stderr",
     "output_type": "stream",
     "text": [
      "/Users/ampregnall/opt/anaconda3/lib/python3.8/site-packages/musical/denovo.py:358: UserWarning: Only 1 n_components value is tested. Selecting this n_components value.\n",
      "  warnings.warn('Only 1 n_components value is tested. Selecting this n_components value.',\n"
     ]
    },
    {
     "name": "stdout",
     "output_type": "stream",
     "text": [
      "Time elapsed: 416 seconds.\n",
      "Extracting signatures for n_components = 3..................\n"
     ]
    },
    {
     "name": "stderr",
     "output_type": "stream",
     "text": [
      "/Users/ampregnall/opt/anaconda3/lib/python3.8/site-packages/musical/denovo.py:358: UserWarning: Only 1 n_components value is tested. Selecting this n_components value.\n",
      "  warnings.warn('Only 1 n_components value is tested. Selecting this n_components value.',\n"
     ]
    },
    {
     "name": "stdout",
     "output_type": "stream",
     "text": [
      "Time elapsed: 319 seconds.\n",
      "Extracting signatures for n_components = 3..................\n"
     ]
    },
    {
     "name": "stderr",
     "output_type": "stream",
     "text": [
      "/Users/ampregnall/opt/anaconda3/lib/python3.8/site-packages/musical/denovo.py:358: UserWarning: Only 1 n_components value is tested. Selecting this n_components value.\n",
      "  warnings.warn('Only 1 n_components value is tested. Selecting this n_components value.',\n"
     ]
    },
    {
     "name": "stdout",
     "output_type": "stream",
     "text": [
      "Time elapsed: 341 seconds.\n",
      "Extracting signatures for n_components = 3..................\n"
     ]
    },
    {
     "name": "stderr",
     "output_type": "stream",
     "text": [
      "/Users/ampregnall/opt/anaconda3/lib/python3.8/site-packages/musical/denovo.py:358: UserWarning: Only 1 n_components value is tested. Selecting this n_components value.\n",
      "  warnings.warn('Only 1 n_components value is tested. Selecting this n_components value.',\n"
     ]
    },
    {
     "name": "stdout",
     "output_type": "stream",
     "text": [
      "Time elapsed: 2.02e+03 seconds.\n",
      "Extracting signatures for n_components = 3..................\n"
     ]
    },
    {
     "name": "stderr",
     "output_type": "stream",
     "text": [
      "/Users/ampregnall/opt/anaconda3/lib/python3.8/site-packages/musical/denovo.py:358: UserWarning: Only 1 n_components value is tested. Selecting this n_components value.\n",
      "  warnings.warn('Only 1 n_components value is tested. Selecting this n_components value.',\n"
     ]
    }
   ],
   "source": [
    "model.validate_grid(validate_n_replicates=1, # Number of simulation replicates to perform for each grid point\n",
    "                    grid_selection_method='pvalue', # Method for selecting the best grid point\n",
    "                    grid_selection_pvalue_thresh=0.05 # Threshold used for selecting the best grid point\n",
    "                   )"
   ]
  },
  {
   "cell_type": "code",
   "execution_count": null,
   "metadata": {},
   "outputs": [],
   "source": [
    "print(model.best_grid_point)\n",
    "print(model.thresh_match)\n",
    "print(model.thresh_refit)"
   ]
  },
  {
   "cell_type": "code",
   "execution_count": null,
   "metadata": {},
   "outputs": [],
   "source": [
    "W_s = model.W_s\n",
    "H_s = model.H_s"
   ]
  }
 ],
 "metadata": {
  "kernelspec": {
   "display_name": "Python 3",
   "language": "python",
   "name": "python3"
  },
  "language_info": {
   "codemirror_mode": {
    "name": "ipython",
    "version": 3
   },
   "file_extension": ".py",
   "mimetype": "text/x-python",
   "name": "python",
   "nbconvert_exporter": "python",
   "pygments_lexer": "ipython3",
   "version": "3.8.5"
  }
 },
 "nbformat": 4,
 "nbformat_minor": 2
}
