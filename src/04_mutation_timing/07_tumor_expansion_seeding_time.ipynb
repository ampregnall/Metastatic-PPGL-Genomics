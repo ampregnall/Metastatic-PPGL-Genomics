{
 "cells": [
  {
   "cell_type": "markdown",
   "metadata": {},
   "source": [
    "# Tumor Growth Model Analysis\n",
    "\n",
    "This notebook analyzes and improves the tumor growth model for estimating primary tumor expansion age. We'll:\n",
    "1. Analyze the current model and data\n",
    "2. Implement an improved model\n",
    "3. Perform sensitivity analysis\n",
    "4. Explore additional analytical approaches"
   ]
  },
  {
   "cell_type": "code",
   "execution_count": null,
   "metadata": {},
   "outputs": [],
   "source": [
    "import pandas as pd\n",
    "import numpy as np\n",
    "import matplotlib.pyplot as plt\n",
    "import seaborn as sns\n",
    "from scipy import stats"
   ]
  },
  {
   "cell_type": "code",
   "execution_count": null,
   "metadata": {},
   "outputs": [],
   "source": [
    "# Set plotting style\n",
    "#plt.style.use('seaborn-white')\n",
    "sns.set_theme(style=\"whitegrid\") \n",
    "sns.set_palette(\"CMRmap\")\n",
    "\n",
    "# Update plotting parameters\n",
    "plt.rcParams['figure.dpi'] = 300\n",
    "sns.set(rc={'figure.dpi': 300})\n",
    "#plt.rcParams['axes.grid'] = True  # Remove gridlines\n",
    "#plt.rcParams['axes.spines.right'] = True  # Remove right spine\n",
    "#plt.rcParams['axes.spines.top'] = False   # Remove top spine\n",
    "plt.rcParams['axes.facecolor'] = 'white'  # Set white background"
   ]
  },
  {
   "cell_type": "markdown",
   "metadata": {},
   "source": [
    "## 1. Data Loading and Initial Analysis"
   ]
  },
  {
   "cell_type": "markdown",
   "metadata": {},
   "source": [
    "We have loaded data from **eight** studies containing cohort-level data about the growth characteristics of pheochromocytomas and paragangliomas. The studies are:\n",
    "* Tamaki et al (2022). PMID: 34972002\n",
    "* Michałowska et al (2017). PMID: 27967220\n",
    "* Jansen et al (2000). PMID: 10870065\n",
    "* Walther et al (1999). PMID: 10458336\n",
    "* Wang et al (2016). PMID: 27073708\n",
    "* Heesterman et al (2017). PMID: 29134169\n",
    "* Tooker et al (2023). PMID: 37590887\n",
    "* Carlson et al (2015). PMID: 25361637\n",
    "\n",
    "Let's begin with a quick exploratory analysis of the basic variables in the data."
   ]
  },
  {
   "cell_type": "code",
   "execution_count": null,
   "metadata": {},
   "outputs": [],
   "source": [
    "# Load data\n",
    "dt = pd.read_excel('../../metadata/PPGL_doubling_time_estimates.xlsx', sheet_name='doubling_time')\n",
    "diam = pd.read_excel('../../metadata/PPGL_doubling_time_estimates.xlsx', sheet_name='volume')\n",
    "\n",
    "# Calculate weighted statistics for doubling time\n",
    "weights_dt = dt['num_tumors'] / dt['num_tumors'].sum()\n",
    "\n",
    "dt_min = dt['doubling_time'].min() * 365\n",
    "dt_max = dt['doubling_time'].max() * 365\n",
    "dt_median = np.average(dt['doubling_time'], weights=weights_dt) * 365\n",
    "\n",
    "# Calculate weighted quartiles for doubling time\n",
    "def weighted_quantile(values, weights, q):\n",
    "    indices = np.argsort(values)\n",
    "    sorted_values = values[indices]\n",
    "    sorted_weights = weights[indices]\n",
    "    cumsum = np.cumsum(sorted_weights)\n",
    "    cumsum = cumsum / cumsum[-1]\n",
    "    return np.interp(q, cumsum, sorted_values)\n",
    "\n",
    "dt_1qt = weighted_quantile(dt['doubling_time'].values, weights_dt.values, 0.25) * 365\n",
    "dt_3qt = weighted_quantile(dt['doubling_time'].values, weights_dt.values, 0.75) * 365\n",
    "\n",
    "# Constants\n",
    "limit_size = 1e11\n",
    "log_limit_size = np.log(limit_size)\n",
    "\n",
    "# Calculate weighted statistics for volume\n",
    "weights_vol = diam['num_tumors'] / diam['num_tumors'].sum()\n",
    "vol = np.average(diam['volume_cm'], weights=weights_vol)\n",
    "vol_min = diam['volume_cm'].min()\n",
    "vol_max = diam['volume_cm'].max()\n",
    "\n",
    "vol_1qt = weighted_quantile(diam['volume_cm'].values, weights_vol.values, 0.25)\n",
    "vol_3qt = weighted_quantile(diam['volume_cm'].values, weights_vol.values, 0.75)\n",
    "\n",
    "# Convert volumes to sizes\n",
    "dx_size = vol * 1e8\n",
    "dx_size_min = vol_min * 1e8\n",
    "dx_size_max = vol_max * 1e8\n",
    "dx_size_1q = vol_1qt * 1e8\n",
    "dx_size_3q = vol_3qt * 1e8"
   ]
  },
  {
   "cell_type": "code",
   "execution_count": null,
   "metadata": {},
   "outputs": [],
   "source": [
    "def calculate_growth_parameters(time_vals, size_vals):\n",
    "    \"\"\"Calculate growth parameters for combinations of time and size values\"\"\"\n",
    "    results = []\n",
    "    \n",
    "    for time in time_vals:\n",
    "        for size in size_vals:\n",
    "            try:\n",
    "                # Calculate beta\n",
    "                beta = 1/time * np.log(\n",
    "                    (log_limit_size - np.log(size)) / \n",
    "                    (log_limit_size - np.log(2 * size))\n",
    "                )\n",
    "                \n",
    "                # Calculate alpha\n",
    "                alpha = log_limit_size * beta\n",
    "                \n",
    "                # Calculate expected age\n",
    "                exp_age = -1 / beta * np.log(1 - np.log(size) * beta / alpha) / 365\n",
    "                \n",
    "                if exp_age < 100:  # Filter ages greater than lifespan\n",
    "                    results.append({\n",
    "                        'time': time,\n",
    "                        'size': size,\n",
    "                        'beta': beta,\n",
    "                        'alpha': alpha,\n",
    "                        'age': exp_age\n",
    "                    })\n",
    "            except:\n",
    "                continue\n",
    "    \n",
    "    return pd.DataFrame(results)\n",
    "\n",
    "\n",
    "def calculate_trajectories(df, alpha_col='alpha', beta_col='beta', age_col='age'):\n",
    "    \"\"\"\n",
    "    Calculate growth trajectories for each parameter combination.\n",
    "\n",
    "    Parameters:\n",
    "    - df (DataFrame): Input dataframe containing the required columns.\n",
    "    - exp_age_col (str): Column name for expected age.\n",
    "    - alpha_col (str): Column name for alpha parameter.\n",
    "    - beta_col (str): Column name for beta parameter.\n",
    "    - age_col (str): Column name for age parameter.\n",
    "\n",
    "    Returns:\n",
    "    - DataFrame: Concatenated DataFrame with growth trajectories.\n",
    "    \"\"\"\n",
    "    trajectories = []\n",
    "    \n",
    "    for _, row in df.iterrows():\n",
    "        time_steps = np.arange(0, 90, 0.01)\n",
    "        time_steps2 = time_steps - row[age_col]\n",
    "        \n",
    "        # Calculate St (size at time t)\n",
    "        St = np.exp(row[alpha_col] / row[beta_col] * \n",
    "                    (1 - np.exp(-row[beta_col] * time_steps * 365)))\n",
    "        \n",
    "        trajectory_df = pd.DataFrame({\n",
    "            'time_step': time_steps,\n",
    "            'time_step2': time_steps2,\n",
    "            'St': St,\n",
    "            'alpha': row[alpha_col],\n",
    "            'beta': row[beta_col],\n",
    "            'exp_age': row[age_col]\n",
    "        })\n",
    "        \n",
    "        trajectories.append(trajectory_df)\n",
    "    \n",
    "    return pd.concat(trajectories)\n"
   ]
  },
  {
   "cell_type": "code",
   "execution_count": null,
   "metadata": {},
   "outputs": [],
   "source": [
    "# Set up parameters for both models\n",
    "time_vals = np.array([dt_1qt, dt_median, dt_3qt])\n",
    "size_vals = np.array([dx_size_min, dx_size_1q, dx_size, dx_size_3q, dx_size_max])\n",
    "\n",
    "# Calculate results for the weighted model\n",
    "df_weighted = calculate_growth_parameters(time_vals, size_vals)\n",
    "df_weighted.head(10)"
   ]
  },
  {
   "cell_type": "code",
   "execution_count": null,
   "metadata": {},
   "outputs": [],
   "source": [
    "trajectories_weighted = calculate_trajectories(df_weighted)\n",
    "trajectories_filtered = trajectories_weighted[trajectories_weighted['time_step2'] < 0]\n",
    "\n",
    "# Plotting\n",
    "plt.figure(figsize=(12, 6))\n",
    "\n",
    "# Plot trajectories\n",
    "for exp_age in df_weighted['age'].unique():\n",
    "    mask = trajectories_filtered['exp_age'] == exp_age\n",
    "    plt.plot(trajectories_filtered[mask]['time_step2'],\n",
    "             np.log10(trajectories_filtered[mask]['St']),\n",
    "             color='#3288bd', alpha=0.6)\n",
    "\n",
    "plt.axvline(x=0, color='black', linestyle='-')\n",
    "plt.axvline(x=df_weighted['age'].mean()*-1, color='black', linestyle='--')\n",
    "plt.ylim(0, 10)\n",
    "plt.xlim(-90, 0)\n",
    "\n",
    "plt.title('Tumor Growth Trajectories')\n",
    "plt.xlabel('Time relative to diagnosis (years)')\n",
    "plt.ylabel('log10(Tumor Size)')\n",
    "\n",
    "plt.grid(True, which='major', axis='both', color='black', alpha=0.1)\n",
    "plt.show()"
   ]
  },
  {
   "cell_type": "markdown",
   "metadata": {},
   "source": [
    "## 2. Modeling the Primary Tumor Expansion Age w/ Patient Level Data "
   ]
  },
  {
   "cell_type": "code",
   "execution_count": null,
   "metadata": {},
   "outputs": [],
   "source": [
    "# Load the data\n",
    "df = pd.read_excel(\"../../metadata/PPGL_doubling_time_estimates.xlsx\", sheet_name='tumors')\n",
    "df.head(10)"
   ]
  },
  {
   "cell_type": "markdown",
   "metadata": {},
   "source": [
    "We have loaded data from **four** studies containing tumor-level data about the growth characteristics of pheochromocytomas and paragangliomas. The studies this data was extracted from include:\n",
    "* Michałowska et al (2017). **PMID:** 27967220\n",
    "* Wang et al (2016). **PMID:** 27073708\n",
    "* Tooker et al (2023). **PMID:** 37590887\n",
    "* Carlson et al (2015). **PMID:** 25361637\n",
    "\n",
    "Let's begin with a quick exploratory analysis of the basic variables in the data."
   ]
  },
  {
   "cell_type": "code",
   "execution_count": null,
   "metadata": {},
   "outputs": [],
   "source": [
    "df.groupby(['germline'])['germline'].count() # Distribution of germline mutations. 91 patients"
   ]
  },
  {
   "cell_type": "code",
   "execution_count": null,
   "metadata": {},
   "outputs": [],
   "source": [
    "# Plot distrubtion of ages\n",
    "plt.figure(figsize=(12, 6))\n",
    "sns.histplot(df['age'])\n",
    "plt.xlabel('Patient Age')\n",
    "plt.ylabel('Count')\n",
    "plt.title('Distribution of Patient Ages')\n",
    "plt.grid(True)\n",
    "plt.show()"
   ]
  },
  {
   "cell_type": "code",
   "execution_count": null,
   "metadata": {},
   "outputs": [],
   "source": [
    "# Plot distribution of percent volume growth\n",
    "plt.figure(figsize=(12, 6))\n",
    "sns.histplot(df['vol_per_change'])\n",
    "plt.xlabel('Percent Change in Volume of Tumors')\n",
    "plt.ylabel('Count')\n",
    "plt.title('Distribution of Percent Changes')\n",
    "plt.grid(True)\n",
    "plt.show()"
   ]
  },
  {
   "cell_type": "markdown",
   "metadata": {},
   "source": [
    "We can see that several patients have no growth or negative growth over their study period. These patients will have to be excluded from further analysis."
   ]
  },
  {
   "cell_type": "code",
   "execution_count": null,
   "metadata": {},
   "outputs": [],
   "source": [
    "print(len(df[df['vol_per_change'] > 0.0]), \" patients have growth during their study periods\")\n",
    "print(len(df[df['vol_per_change'] < 0.0]), \" patients have no growth or negative growth during their study periods\")"
   ]
  },
  {
   "cell_type": "code",
   "execution_count": null,
   "metadata": {},
   "outputs": [],
   "source": [
    "df = df[df['vol_per_change'] > 0.0]\n",
    "df.groupby(['germline'])['germline'].count() # Distribution of germline mutations"
   ]
  },
  {
   "cell_type": "markdown",
   "metadata": {},
   "source": [
    "## 2. Implement Analysis Utilized by Hu et al (Nature Genetics 2020)"
   ]
  },
  {
   "cell_type": "code",
   "execution_count": null,
   "metadata": {},
   "outputs": [],
   "source": [
    "def calculate_primary_tumor_expansion_age(row):\n",
    "    \"\"\"Implement the original model calculations\"\"\"\n",
    "    log_limit_size = np.log(1e11)\n",
    "    dx_size = row['tumor_size_t1'] * 1e8\n",
    "    doubling_time_days = row['doubling_time_yr'] * 365\n",
    "    \n",
    "    try:\n",
    "        beta = 1/doubling_time_days * np.log(\n",
    "            (log_limit_size - np.log(dx_size)) / \n",
    "            (log_limit_size - np.log(2 * dx_size))\n",
    "        )\n",
    "        alpha = log_limit_size * beta\n",
    "        exp_age = -1/beta * np.log(1 - np.log(dx_size) * beta / alpha) / 365\n",
    "        \n",
    "        return pd.Series({\n",
    "            'beta': beta,\n",
    "            'alpha': alpha,\n",
    "            'exp_age': exp_age,\n",
    "            'plausible': (exp_age > 0) & (exp_age < row['age']) # Tumor should be younger than patient\n",
    "        })\n",
    "    except:\n",
    "        return pd.Series({\n",
    "            'beta': np.nan,\n",
    "            'alpha': np.nan,\n",
    "            'exp_age': np.nan,\n",
    "            'plausible': False\n",
    "        })"
   ]
  },
  {
   "cell_type": "code",
   "execution_count": null,
   "metadata": {},
   "outputs": [],
   "source": [
    "# Apply Hu et al model\n",
    "original_results = df.apply(calculate_primary_tumor_expansion_age, axis=1)\n",
    "df = pd.concat([df, original_results], axis=1)\n",
    "df.head(10)"
   ]
  },
  {
   "cell_type": "code",
   "execution_count": null,
   "metadata": {},
   "outputs": [],
   "source": [
    "# Analyze results\n",
    "print(\"Original Model Results:\")\n",
    "print(f\"Total cases: {len(df)}\")\n",
    "print(f\"Plausible estimates: {df['plausible'].sum()}\")\n",
    "print(f\"Implausible estimates: {len(df) - df['plausible'].sum()}\")"
   ]
  },
  {
   "cell_type": "code",
   "execution_count": null,
   "metadata": {},
   "outputs": [],
   "source": [
    "trajectories_weighted = calculate_trajectories(df[df['plausible'] == True], age_col='exp_age')\n",
    "trajectories_filtered = trajectories_weighted[trajectories_weighted['time_step2'] < 0]\n",
    "\n",
    "# Plotting\n",
    "plt.figure(figsize=(3.75, 1.5))\n",
    "\n",
    "# Plot trajectories\n",
    "for exp_age in df['exp_age'].unique():\n",
    "    mask = trajectories_filtered['exp_age'] == exp_age\n",
    "    plt.plot(trajectories_filtered[mask]['time_step2'],\n",
    "             np.log10(trajectories_filtered[mask]['St']),\n",
    "             color='#3288bd', alpha=0.6)\n",
    "\n",
    "plt.axvline(x=0, color='black', linestyle='-')\n",
    "plt.axvline(x=df[df['plausible'] == True]['exp_age'].mean()*-1, color='black', linestyle='--')\n",
    "plt.ylim(0, 10)\n",
    "plt.xlim(-45, 0)\n",
    "\n",
    "plt.title('Tumor Growth Trajectories')\n",
    "plt.xlabel('Time relative to diagnosis (years)')\n",
    "plt.ylabel('log10(Tumor Size)')\n",
    "plt.grid(True, which='major', axis='both', color='black', alpha=0.1)\n",
    "plt.show()"
   ]
  },
  {
   "cell_type": "code",
   "execution_count": null,
   "metadata": {},
   "outputs": [],
   "source": [
    "def analyze_sensitivity(df, growth_rate_thresholds):\n",
    "    \"\"\"Analyze model sensitivity to different growth rate thresholds\"\"\"\n",
    "    results = []\n",
    "    \n",
    "    for threshold in growth_rate_thresholds:\n",
    "        # Apply threshold\n",
    "        mask = df['monthly_growth_rate'] >= threshold\n",
    "        filtered_df = df[mask]\n",
    "        \n",
    "        # Calculate metrics\n",
    "        n_plausible = filtered_df['plausible'].sum()\n",
    "        n_total = len(filtered_df)\n",
    "        \n",
    "        results.append({\n",
    "            'threshold': threshold,\n",
    "            'n_cases': n_total,\n",
    "            'n_plausible': n_plausible,\n",
    "            'plausible_ratio': n_plausible/n_total if n_total > 0 else 0\n",
    "        })\n",
    "    \n",
    "    return pd.DataFrame(results)"
   ]
  },
  {
   "cell_type": "code",
   "execution_count": null,
   "metadata": {},
   "outputs": [],
   "source": [
    "# Define thresholds to test\n",
    "thresholds = np.linspace(0, 20, 41)  # 0% to 10% monthly growth rate\n",
    "df['monthly_growth_rate'] = df['vol_per_change'] / df['time_m']\n",
    "\n",
    "# Run sensitivity analysis\n",
    "sensitivity_results = analyze_sensitivity(df, thresholds)\n",
    "\n",
    "# Plot results\n",
    "plt.figure(figsize=(7.5, 2.5))\n",
    "plt.plot(sensitivity_results['threshold'], sensitivity_results['plausible_ratio'], 'o-')\n",
    "plt.xlabel('Monthly Growth Rate Threshold (%)')\n",
    "plt.ylabel('Ratio of Plausible Estimates')\n",
    "plt.title('Model Sensitivity to Growth Rate Threshold')\n",
    "plt.grid(True)\n",
    "plt.savefig(\"../../results/figures/mutational_timing/hu_sensitivity_growth_rate.pdf\")\n",
    "plt.show()"
   ]
  },
  {
   "cell_type": "code",
   "execution_count": null,
   "metadata": {},
   "outputs": [],
   "source": [
    "# 1. Relationship between tumor size and model plausibility\n",
    "plt.figure(figsize=(7.5, 2.5))\n",
    "plt.scatter(df[df['plausible']]['tumor_size_t1'], \n",
    "           df[df['plausible']]['monthly_growth_rate'],\n",
    "           label='Plausible', alpha=0.6)\n",
    "plt.scatter(df[~df['plausible']]['tumor_size_t1'], \n",
    "           df[~df['plausible']]['monthly_growth_rate'],\n",
    "           label='Implausible', alpha=0.6)\n",
    "plt.xlabel('Initial Tumor Size')\n",
    "plt.ylabel('Monthly Growth Rate (%)')\n",
    "plt.title('Tumor Size vs Growth Rate')\n",
    "plt.legend()\n",
    "plt.yscale('log')\n",
    "plt.xscale('log')\n",
    "plt.grid(True, which='major', color='black', alpha=0.1)\n",
    "plt.savefig(\"../../results/figures/mutational_timing/hu_tumor_size_plausibility.pdf\")\n",
    "plt.show()"
   ]
  },
  {
   "cell_type": "code",
   "execution_count": null,
   "metadata": {},
   "outputs": [],
   "source": [
    "# 2. Age distribution analysis\n",
    "plt.figure(figsize=(12, 6))\n",
    "sns.kdeplot(data=df[df['plausible']], x='exp_age', label='Estimated Age (Plausible)')\n",
    "sns.kdeplot(data=df[df['plausible']], x='age', label='Actual Age')\n",
    "plt.xlabel('Age (years)')\n",
    "plt.ylabel('Density')\n",
    "plt.title('Distribution of Estimated vs Actual Ages (Plausible Cases)')\n",
    "plt.legend()\n",
    "plt.show()"
   ]
  },
  {
   "cell_type": "code",
   "execution_count": null,
   "metadata": {},
   "outputs": [],
   "source": [
    "# 3. Growth rate distribution\n",
    "plt.figure(figsize=(12, 6))\n",
    "sns.boxplot(x='plausible', y='monthly_growth_rate', data=df)\n",
    "plt.xlabel('Model Estimate Plausibility')\n",
    "plt.ylabel('Monthly Growth Rate (%)')\n",
    "plt.title('Growth Rate Distribution by Model Plausibility')\n",
    "plt.show()"
   ]
  },
  {
   "cell_type": "markdown",
   "metadata": {},
   "source": [
    "## 3. Alternative Model Implementation\n",
    "This modeul will directly account for tumor size and growth rate which seem to be major contributors to poor model fit in the original Hu et al model. This is not unexpected as their model was fit to Colon, Breast, and Lung cancer which are more aggressive/rapidly growing than relatively indolent PCC/PGL."
   ]
  },
  {
   "cell_type": "code",
   "execution_count": null,
   "metadata": {},
   "outputs": [],
   "source": [
    "df = pd.read_excel(\"../../metadata/PPGL_doubling_time_estimates.xlsx\", sheet_name='tumors')\n",
    "df = df[df['vol_per_change'] > 0.0]"
   ]
  },
  {
   "cell_type": "code",
   "execution_count": null,
   "metadata": {},
   "outputs": [],
   "source": [
    "def calculate_primary_tumor_expansion_age_adjusted(row):\n",
    "    \"\"\"Implement the improved model calculations\"\"\"\n",
    "    log_limit_size = np.log(1e11)\n",
    "    dx_size = row['tumor_size_t1'] * 1e8\n",
    "    doubling_time_days = row['doubling_time_yr'] * 365\n",
    "    \n",
    "    try:\n",
    "        # Calculate monthly growth rate\n",
    "        monthly_growth_rate = row['vol_per_change'] / row['time_m']\n",
    "        \n",
    "        # Calculate base growth rate\n",
    "        base_beta = np.log(2) / doubling_time_days\n",
    "        \n",
    "        # Adjust beta based on current growth rate and tumor size\n",
    "        growth_factor = 1 - np.log(dx_size) / log_limit_size\n",
    "        beta_adj = base_beta * growth_factor * (1 + monthly_growth_rate/100)\n",
    "        \n",
    "        # Calculate modified alpha\n",
    "        alpha_adj = log_limit_size * beta_adj\n",
    "        \n",
    "        # Calculate expected age\n",
    "        exp_age_adj = -1/beta_adj * np.log(1 - np.log(dx_size) * beta_adj / alpha_adj) / 365\n",
    "        exp_age_adj = max(0, exp_age_adj)\n",
    "        \n",
    "        return pd.Series({\n",
    "            'monthly_growth_rate': monthly_growth_rate,\n",
    "            'beta': beta_adj,\n",
    "            'alpha': alpha_adj,\n",
    "            'exp_age': exp_age_adj,\n",
    "            'plausible': (exp_age_adj > 0) & (exp_age_adj < row['age'])\n",
    "        })\n",
    "    except:\n",
    "        return pd.Series({\n",
    "            'monthly_growth_rate': np.nan,\n",
    "            'beta': np.nan,\n",
    "            'alpha': np.nan,\n",
    "            'exp_age': np.nan,\n",
    "            'plausible': False\n",
    "        })"
   ]
  },
  {
   "cell_type": "code",
   "execution_count": null,
   "metadata": {},
   "outputs": [],
   "source": [
    "# Apply new model\n",
    "results = df.apply(calculate_primary_tumor_expansion_age_adjusted, axis=1)\n",
    "df = pd.concat([df, results], axis=1)\n",
    "\n",
    "# Compare results\n",
    "print(\"Improved Model Results:\")\n",
    "print(f\"Total cases: {len(df)}\")\n",
    "print(f\"Plausible estimates: {df['plausible'].sum()}\")\n",
    "print(f\"Implausible estimates: {len(df) - df['plausible'].sum()}\")"
   ]
  },
  {
   "cell_type": "code",
   "execution_count": null,
   "metadata": {},
   "outputs": [],
   "source": [
    "print(np.median(df[df['plausible'] == True]['exp_age']))\n",
    "print(np.percentile(df[df['plausible'] == True]['exp_age'], 25))\n",
    "print(np.percentile(df[df['plausible'] == True]['exp_age'], 75))"
   ]
  },
  {
   "cell_type": "code",
   "execution_count": null,
   "metadata": {},
   "outputs": [],
   "source": [
    "trajectories_weighted = calculate_trajectories(df[df['plausible'] == True], age_col='exp_age')\n",
    "trajectories_filtered = trajectories_weighted[trajectories_weighted['time_step2'] < 0]\n",
    "\n",
    "# Plotting\n",
    "plt.figure(figsize=(12, 6))\n",
    "\n",
    "# Plot trajectories\n",
    "for exp_age in df['exp_age'].unique():\n",
    "    mask = trajectories_filtered['exp_age'] == exp_age\n",
    "    plt.plot(trajectories_filtered[mask]['time_step2'],\n",
    "             np.log10(trajectories_filtered[mask]['St']),\n",
    "             color='#3288bd', alpha=0.6)\n",
    "\n",
    "plt.axvline(x=0, color='black', linestyle='-')\n",
    "plt.axvline(x=df[df['plausible'] == True]['exp_age'].mean()*-1, color='black', linestyle='--')\n",
    "plt.ylim(0, 10)\n",
    "\n",
    "plt.title('Tumor Growth Trajectories')\n",
    "plt.xlabel('Time relative to diagnosis (years)')\n",
    "plt.ylabel('log10(Tumor Size)')\n",
    "\n",
    "plt.grid(True, which='major', axis='both', color='black', alpha=0.1)\n",
    "plt.savefig(\"../../results/figures/mutational_timing/primary_tumor_expansion_age.pdf\")\n",
    "plt.show()"
   ]
  },
  {
   "cell_type": "code",
   "execution_count": null,
   "metadata": {},
   "outputs": [],
   "source": [
    "df[df['plausible'] == True]['exp_age'].mean()"
   ]
  },
  {
   "cell_type": "markdown",
   "metadata": {},
   "source": [
    "## 4. Sensitivity Analysis"
   ]
  },
  {
   "cell_type": "code",
   "execution_count": null,
   "metadata": {},
   "outputs": [],
   "source": [
    "# Define thresholds to test\n",
    "thresholds = np.linspace(0, 20, 41)  # 0% to 10% monthly growth rate\n",
    "df['monthly_growth_rate'] = df['vol_per_change'] / df['time_m']\n",
    "\n",
    "# Run sensitivity analysis\n",
    "sensitivity_results = analyze_sensitivity(df, thresholds)\n",
    "\n",
    "# Plot results\n",
    "plt.figure(figsize=(12, 6))\n",
    "plt.plot(sensitivity_results['threshold'], sensitivity_results['plausible_ratio'], 'o-')\n",
    "plt.xlabel('Monthly Growth Rate Threshold (%)')\n",
    "plt.ylabel('Ratio of Plausible Estimates')\n",
    "plt.title('Model Sensitivity to Growth Rate Threshold')\n",
    "plt.grid(True)\n",
    "plt.show()"
   ]
  },
  {
   "cell_type": "code",
   "execution_count": null,
   "metadata": {},
   "outputs": [],
   "source": [
    "# 1. Relationship between tumor size and model plausibility\n",
    "plt.figure(figsize=(12, 6))\n",
    "plt.scatter(df[df['plausible']]['tumor_size_t1'], \n",
    "           df[df['plausible']]['monthly_growth_rate'],\n",
    "           label='Plausible', alpha=0.6)\n",
    "plt.scatter(df[~df['plausible']]['tumor_size_t1'], \n",
    "           df[~df['plausible']]['monthly_growth_rate'],\n",
    "           label='Implausible', alpha=0.6)\n",
    "plt.xlabel('Initial Tumor Size')\n",
    "plt.ylabel('Monthly Growth Rate (%)')\n",
    "plt.title('Tumor Size vs Growth Rate')\n",
    "plt.legend()\n",
    "plt.yscale('log')\n",
    "plt.xscale('log')\n",
    "plt.grid(True)\n",
    "plt.show()"
   ]
  },
  {
   "cell_type": "code",
   "execution_count": null,
   "metadata": {},
   "outputs": [],
   "source": [
    "# 2. Age distribution analysis\n",
    "plt.figure(figsize=(12, 6))\n",
    "sns.kdeplot(data=df[df['plausible']], x='exp_age', label='Estimated Age (Plausible)')\n",
    "sns.kdeplot(data=df[df['plausible']], x='age', label='Actual Age')\n",
    "plt.xlabel('Age (years)')\n",
    "plt.ylabel('Density')\n",
    "plt.title('Distribution of Estimated vs Actual Ages (Plausible Cases)')\n",
    "plt.legend()\n",
    "plt.show()"
   ]
  },
  {
   "cell_type": "code",
   "execution_count": null,
   "metadata": {},
   "outputs": [],
   "source": [
    "# 3. Growth rate distribution\n",
    "plt.figure(figsize=(12, 6))\n",
    "sns.boxplot(x='plausible', y='monthly_growth_rate', data=df)\n",
    "plt.xlabel('Model Estimate Plausibility')\n",
    "plt.ylabel('Monthly Growth Rate (%)')\n",
    "plt.title('Growth Rate Distribution by Model Plausibility')\n",
    "plt.show()"
   ]
  },
  {
   "cell_type": "markdown",
   "metadata": {},
   "source": [
    "## 5. Additional Analyses"
   ]
  },
  {
   "cell_type": "code",
   "execution_count": null,
   "metadata": {},
   "outputs": [],
   "source": [
    "df2 = pd.read_csv(\"../../metadata/mPPGL_jsi_estimates.csv\", index_col=0)\n",
    "df2.head(10)"
   ]
  },
  {
   "cell_type": "code",
   "execution_count": null,
   "metadata": {},
   "outputs": [],
   "source": [
    "df2['rt_fraction'] = 1 - df2['lmlp']*0.13\n",
    "#df2 = df2[df2['rt_fraction'] > 0]\n",
    "df2.head(10)"
   ]
  },
  {
   "cell_type": "code",
   "execution_count": null,
   "metadata": {},
   "outputs": [],
   "source": [
    "df = df[df['plausible'] == True]"
   ]
  },
  {
   "cell_type": "code",
   "execution_count": null,
   "metadata": {},
   "outputs": [],
   "source": [
    "results = []\n",
    "\n",
    "for i, row in df2.iterrows():\n",
    "    if np.isnan(row['age_at_diagnosis']):\n",
    "        continue\n",
    "        \n",
    "    ages = df[df['exp_age'] < row['age_at_diagnosis']]['exp_age']\n",
    "    tmet = row['rt_fraction'] * ages\n",
    "    tmet = tmet[tmet > -row['time_relapse']]\n",
    "    results.extend(tmet.tolist())\n",
    "\n",
    "results = np.array(results) * -1"
   ]
  },
  {
   "cell_type": "code",
   "execution_count": null,
   "metadata": {},
   "outputs": [],
   "source": [
    "# Plot distrubtion of ages\n",
    "plt.figure(figsize=(5, 5))\n",
    "sns.histplot(results)\n",
    "plt.axvline(x=np.median(results), color='black', linestyle='--')\n",
    "plt.xlabel('Metastatic Seeding')\n",
    "plt.ylabel('Count')\n",
    "plt.title('Distribution of Metastatic Seeding Times')\n",
    "plt.savefig(\"../../results/figures/mutational_timing/metastatic_seeding.pdf\")\n",
    "plt.show()"
   ]
  },
  {
   "cell_type": "code",
   "execution_count": null,
   "metadata": {},
   "outputs": [],
   "source": [
    "print(np.median(results))\n",
    "print(np.percentile(results, 25))\n",
    "print(np.percentile(results, 75))"
   ]
  },
  {
   "cell_type": "code",
   "execution_count": null,
   "metadata": {},
   "outputs": [],
   "source": []
  }
 ],
 "metadata": {
  "kernelspec": {
   "display_name": "Python 3",
   "language": "python",
   "name": "python3"
  },
  "language_info": {
   "codemirror_mode": {
    "name": "ipython",
    "version": 3
   },
   "file_extension": ".py",
   "mimetype": "text/x-python",
   "name": "python",
   "nbconvert_exporter": "python",
   "pygments_lexer": "ipython3",
   "version": "3.8.5"
  }
 },
 "nbformat": 4,
 "nbformat_minor": 4
}
